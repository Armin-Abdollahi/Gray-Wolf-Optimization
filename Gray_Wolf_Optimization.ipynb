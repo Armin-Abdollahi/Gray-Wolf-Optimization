{
  "nbformat": 4,
  "nbformat_minor": 0,
  "metadata": {
    "colab": {
      "provenance": [],
      "authorship_tag": "ABX9TyNjF6qeVYjMD5WZ6JBADcxp",
      "include_colab_link": true
    },
    "kernelspec": {
      "name": "python3",
      "display_name": "Python 3"
    },
    "language_info": {
      "name": "python"
    }
  },
  "cells": [
    {
      "cell_type": "markdown",
      "metadata": {
        "id": "view-in-github",
        "colab_type": "text"
      },
      "source": [
        "<a href=\"https://colab.research.google.com/github/Armin-Abdollahi/Gray-Wolf-Optimization/blob/main/Gray_Wolf_Optimization.ipynb\" target=\"_parent\"><img src=\"https://colab.research.google.com/assets/colab-badge.svg\" alt=\"Open In Colab\"/></a>"
      ]
    },
    {
      "cell_type": "code",
      "execution_count": 1,
      "metadata": {
        "id": "oxI3tyccc0pO"
      },
      "outputs": [],
      "source": [
        "import numpy as np\n",
        "\n",
        "def GWO(objf, lb, ub, dim, SearchAgents_no, Max_iter):\n",
        "    Alpha_pos = np.zeros(dim)\n",
        "    Alpha_score = float(\"inf\")\n",
        "    Beta_pos = np.zeros(dim)\n",
        "    Beta_score = float(\"inf\")\n",
        "    Delta_pos = np.zeros(dim)\n",
        "    Delta_score = float(\"inf\")\n",
        "    Positions = np.random.uniform(0, 1, (SearchAgents_no, dim)) * (ub - lb) + lb\n",
        "    Convergence_curve = np.zeros(Max_iter)\n",
        "\n",
        "    for l in range(0, Max_iter):\n",
        "        for i in range(0, SearchAgents_no):\n",
        "            # Return back the search agents that go beyond the boundaries of the search space\n",
        "            Positions[i,:] = np.clip(Positions[i,:], lb, ub)\n",
        "\n",
        "            # Calculate objective function for each search agent\n",
        "            fitness = objf(Positions[i,:])\n",
        "\n",
        "            # Update Alpha, Beta and Delta\n",
        "            if fitness < Alpha_score:\n",
        "                Alpha_score = fitness\n",
        "                Alpha_pos = Positions[i,:].copy()\n",
        "            if (fitness > Alpha_score and fitness < Beta_score):\n",
        "                Beta_score = fitness\n",
        "                Beta_pos = Positions[i,:].copy()\n",
        "            if (fitness > Alpha_score and fitness > Beta_score and fitness < Delta_score):\n",
        "                Delta_score = fitness\n",
        "                Delta_pos = Positions[i,:].copy()\n",
        "\n",
        "        a = 2 - l * ((2) / Max_iter)  # a decreases linearly fron 2 to 0\n",
        "\n",
        "        # Update the Position of search agents including omegas\n",
        "        for i in range(0, SearchAgents_no):\n",
        "            for j in range(0, dim):\n",
        "                r1 = np.random.random()  # r1 is a random number in [0,1]\n",
        "                r2 = np.random.random()  # r2 is a random number in [0,1]\n",
        "\n",
        "                A1 = 2 * a * r1 - a\n",
        "                C1 = 2 * r2\n",
        "\n",
        "                D_alpha = abs(C1 * Alpha_pos[j] - Positions[i,j])\n",
        "                X1 = Alpha_pos[j] - A1 * D_alpha\n",
        "\n",
        "                r1 = np.random.random()\n",
        "                r2 = np.random.random()\n",
        "\n",
        "                A2 = 2 * a * r1 - a\n",
        "                C2 = 2 * r2\n",
        "\n",
        "                D_beta = abs(C2 * Beta_pos[j] - Positions[i,j])\n",
        "                X2 = Beta_pos[j] - A2 * D_beta\n",
        "\n",
        "                r1 = np.random.random()\n",
        "                r2 = np.random.random()\n",
        "\n",
        "                A3 = 2 * a * r1 - a\n",
        "                C3 = 2 * r2\n",
        "\n",
        "                D_delta = abs(C3 * Delta_pos[j] - Positions[i,j])\n",
        "                X3 = Delta_pos[j] - A3 * D_delta\n",
        "\n",
        "                Positions[i,j] = (X1 + X2 + X3) / 3\n",
        "\n",
        "        Convergence_curve[l] = Alpha_score\n",
        "\n",
        "    return Alpha_pos, Alpha_score, Convergence_curve\n"
      ]
    }
  ]
}